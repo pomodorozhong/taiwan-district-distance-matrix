{
 "cells": [
  {
   "cell_type": "markdown",
   "metadata": {},
   "source": [
    "## Calculate the distance between two geo locations\n",
    "\n",
    "The Earth is not a perfect sphere, which complicates the calculation of distances between geographical locations. Fortunately, GeoPy can handle all these complex calculations for us."
   ]
  },
  {
   "cell_type": "code",
   "execution_count": 6,
   "metadata": {},
   "outputs": [
    {
     "name": "stdout",
     "output_type": "stream",
     "text": [
      "The distance between Newport, RI and Cleveland, OH is 866.4554329098687 km\n",
      "The distance between 文山區 and 北投區 is 12.253177937252559 km\n"
     ]
    }
   ],
   "source": [
    "import geopy.distance\n",
    "\n",
    "newport_ri = (41.49008, -71.312796)\n",
    "cleveland_oh = (41.499498, -81.695391)\n",
    "distance = geopy.distance.distance(newport_ri, cleveland_oh).km\n",
    "\n",
    "print(f\"The distance between Newport, RI and Cleveland, OH is {distance} km\")\n",
    "\n",
    "\n",
    "wen_shan = (24.9929212, 121.57125)\n",
    "bei_tou = (25.0950492, 121.5246077)\n",
    "distance = geopy.distance.distance(wen_shan, bei_tou).km\n",
    "\n",
    "print(f\"The distance between 文山區 and 北投區 is {distance} km\")"
   ]
  },
  {
   "cell_type": "markdown",
   "metadata": {},
   "source": [
    "## Loading district coordinate\n",
    "\n",
    "The data originates from [tw-area-json/position.json](https://github.com/xue-yuan/tw-area-json/blob/main/position.json) and contains the latitude and longitude of the districts in Taiwan."
   ]
  },
  {
   "cell_type": "code",
   "execution_count": 7,
   "metadata": {},
   "outputs": [
    {
     "data": {
      "text/plain": [
       "[{'name': '臺北市中正區', 'location': {'lat': 25.0421407, 'lng': 121.5198716}},\n",
       " {'name': '臺北市大同區', 'location': {'lat': 25.0627243, 'lng': 121.5113064}},\n",
       " {'name': '臺北市中山區', 'location': {'lat': 25.0792018, 'lng': 121.5427093}},\n",
       " {'name': '臺北市松山區', 'location': {'lat': 25.0541591, 'lng': 121.5638621}},\n",
       " {'name': '臺北市大安區', 'location': {'lat': 25.0249441, 'lng': 121.5433783}}]"
      ]
     },
     "execution_count": 7,
     "metadata": {},
     "output_type": "execute_result"
    }
   ],
   "source": [
    "import json\n",
    "\n",
    "path = \"taiwan_district_coordinate.json\"\n",
    "\n",
    "districts = []\n",
    "with open(path, encoding='utf-8') as file:\n",
    "    districts = json.load(file)\n",
    "\n",
    "districts[:5]"
   ]
  },
  {
   "cell_type": "markdown",
   "metadata": {},
   "source": [
    "## Generate the distance matrix\n",
    "\n",
    "Well, it's actually not a matrix."
   ]
  },
  {
   "cell_type": "code",
   "execution_count": 8,
   "metadata": {},
   "outputs": [
    {
     "data": {
      "text/plain": [
       "[{'from': '臺北市中正區', 'to': '臺北市大同區', 'distance': 2.4384316762679092},\n",
       " {'from': '臺北市中正區', 'to': '臺北市中山區', 'distance': 4.7078927351834245},\n",
       " {'from': '臺北市中正區', 'to': '臺北市松山區', 'distance': 4.63445123837025},\n",
       " {'from': '臺北市中正區', 'to': '臺北市大安區', 'distance': 3.042503570044179},\n",
       " {'from': '臺北市中正區', 'to': '臺北市萬華區', 'distance': 2.8980964554607525}]"
      ]
     },
     "execution_count": 8,
     "metadata": {},
     "output_type": "execute_result"
    }
   ],
   "source": [
    "distances = []\n",
    "\n",
    "for from_ in districts:\n",
    "    for to_ in districts:\n",
    "        if from_ == to_:\n",
    "            continue\n",
    "        coords_1 = (from_['location']['lat'], from_['location']['lng'])\n",
    "        coords_2 = (to_['location']['lat'], to_['location']['lng'])\n",
    "        distance = geopy.distance.distance(coords_1, coords_2).km\n",
    "\n",
    "        distances.append({'from': from_['name'],\n",
    "                          'to': to_['name'],\n",
    "                          'distance': distance})\n",
    "\n",
    "distances[:5]"
   ]
  },
  {
   "cell_type": "markdown",
   "metadata": {},
   "source": [
    "## Check some of the results"
   ]
  },
  {
   "cell_type": "code",
   "execution_count": 9,
   "metadata": {},
   "outputs": [
    {
     "name": "stdout",
     "output_type": "stream",
     "text": [
      "臺北市中正區 and 臺北市大同區 are 2.4384316762679092 km apart.\n",
      "臺北市大同區 and 臺北市中正區 are 2.4384316762679092 km apart.\n",
      "屏東縣恆春鎮 and 基隆市中山區 are 363.1254003111391 km apart.\n"
     ]
    }
   ],
   "source": [
    "for distance in distances:\n",
    "    if distance['from'] == '臺北市中正區' and distance['to'] == '臺北市大同區':\n",
    "        print(f\"臺北市中正區 and 臺北市大同區 are {distance['distance']} km apart.\")\n",
    "\n",
    "    if distance['from'] == '臺北市大同區' and distance['to'] == '臺北市中正區':\n",
    "        print(f\"臺北市大同區 and 臺北市中正區 are {distance['distance']} km apart.\")\n",
    "\n",
    "    if distance['from'] == '屏東縣恆春鎮' and distance['to'] == '基隆市中山區':\n",
    "        print(f\"屏東縣恆春鎮 and 基隆市中山區 are {distance['distance']} km apart.\")\n",
    "\n"
   ]
  },
  {
   "cell_type": "markdown",
   "metadata": {},
   "source": [
    "## Store the results"
   ]
  },
  {
   "cell_type": "code",
   "execution_count": 10,
   "metadata": {},
   "outputs": [],
   "source": [
    "path = \"taiwan_district_distance.json\"\n",
    "\n",
    "with open(path, \"w\", encoding='utf-8') as outfile:\n",
    "    json.dump(distances, outfile, indent=2, sort_keys=False, ensure_ascii=False)"
   ]
  }
 ],
 "metadata": {
  "kernelspec": {
   "display_name": ".venv",
   "language": "python",
   "name": "python3"
  },
  "language_info": {
   "codemirror_mode": {
    "name": "ipython",
    "version": 3
   },
   "file_extension": ".py",
   "mimetype": "text/x-python",
   "name": "python",
   "nbconvert_exporter": "python",
   "pygments_lexer": "ipython3",
   "version": "3.11.3"
  }
 },
 "nbformat": 4,
 "nbformat_minor": 2
}
